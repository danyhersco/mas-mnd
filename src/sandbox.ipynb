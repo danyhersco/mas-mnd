{
 "cells": [
  {
   "cell_type": "code",
   "execution_count": 1,
   "id": "3907d5a6",
   "metadata": {},
   "outputs": [],
   "source": [
    "import os\n",
    "import requests\n",
    "\n",
    "import pandas as pd\n",
    "from dotenv import load_dotenv\n",
    "\n",
    "\n",
    "load_dotenv()\n",
    "\n",
    "av_key = os.getenv(\"ALPHA_VANTAGE_KEY\")\n",
    "\n",
    "def read_intraday_data(tickers: list[str], interval: int):\n",
    "    dfs = []\n",
    "\n",
    "    for ticker in tickers:\n",
    "        url = f\"https://www.alphavantage.co/query?function=TIME_SERIES_INTRADAY&symbol={ticker}&interval={interval}min&apikey={av_key}\"\n",
    "        r = requests.get(url)\n",
    "        data = r.json()\n",
    "\n",
    "        time_series = data[f\"Time Series ({interval}min)\"]\n",
    "        df = pd.DataFrame(time_series)\n",
    "        dfs.append(df)\n",
    "\n",
    "    return dfs"
   ]
  },
  {
   "cell_type": "code",
   "execution_count": 2,
   "id": "ebce8689",
   "metadata": {},
   "outputs": [],
   "source": [
    "dfs = read_intraday_data(tickers=[\"IBM\"], interval=15)"
   ]
  },
  {
   "cell_type": "code",
   "execution_count": 3,
   "id": "a311167d",
   "metadata": {},
   "outputs": [],
   "source": [
    "df = dfs[0]"
   ]
  },
  {
   "cell_type": "code",
   "execution_count": 4,
   "id": "009333d3",
   "metadata": {},
   "outputs": [
    {
     "data": {
      "text/html": [
       "<div>\n",
       "<style scoped>\n",
       "    .dataframe tbody tr th:only-of-type {\n",
       "        vertical-align: middle;\n",
       "    }\n",
       "\n",
       "    .dataframe tbody tr th {\n",
       "        vertical-align: top;\n",
       "    }\n",
       "\n",
       "    .dataframe thead th {\n",
       "        text-align: right;\n",
       "    }\n",
       "</style>\n",
       "<table border=\"1\" class=\"dataframe\">\n",
       "  <thead>\n",
       "    <tr style=\"text-align: right;\">\n",
       "      <th></th>\n",
       "      <th>2025-06-20 19:45:00</th>\n",
       "      <th>2025-06-20 19:30:00</th>\n",
       "      <th>2025-06-20 19:15:00</th>\n",
       "      <th>2025-06-20 19:00:00</th>\n",
       "      <th>2025-06-20 18:45:00</th>\n",
       "      <th>2025-06-20 18:30:00</th>\n",
       "      <th>2025-06-20 18:15:00</th>\n",
       "      <th>2025-06-20 18:00:00</th>\n",
       "      <th>2025-06-20 17:45:00</th>\n",
       "      <th>2025-06-20 17:30:00</th>\n",
       "      <th>...</th>\n",
       "      <th>2025-06-18 13:15:00</th>\n",
       "      <th>2025-06-18 13:00:00</th>\n",
       "      <th>2025-06-18 12:45:00</th>\n",
       "      <th>2025-06-18 12:30:00</th>\n",
       "      <th>2025-06-18 12:15:00</th>\n",
       "      <th>2025-06-18 12:00:00</th>\n",
       "      <th>2025-06-18 11:45:00</th>\n",
       "      <th>2025-06-18 11:30:00</th>\n",
       "      <th>2025-06-18 11:15:00</th>\n",
       "      <th>2025-06-18 11:00:00</th>\n",
       "    </tr>\n",
       "  </thead>\n",
       "  <tbody>\n",
       "    <tr>\n",
       "      <th>1. open</th>\n",
       "      <td>282.6900</td>\n",
       "      <td>282.6900</td>\n",
       "      <td>281.3900</td>\n",
       "      <td>280.9700</td>\n",
       "      <td>281.3800</td>\n",
       "      <td>280.9700</td>\n",
       "      <td>281.2600</td>\n",
       "      <td>281.3800</td>\n",
       "      <td>281.3900</td>\n",
       "      <td>281.2700</td>\n",
       "      <td>...</td>\n",
       "      <td>285.7950</td>\n",
       "      <td>285.7500</td>\n",
       "      <td>285.4650</td>\n",
       "      <td>285.2500</td>\n",
       "      <td>286.4050</td>\n",
       "      <td>285.2300</td>\n",
       "      <td>285.3700</td>\n",
       "      <td>285.4600</td>\n",
       "      <td>285.2180</td>\n",
       "      <td>285.9400</td>\n",
       "    </tr>\n",
       "    <tr>\n",
       "      <th>2. high</th>\n",
       "      <td>282.6900</td>\n",
       "      <td>282.6900</td>\n",
       "      <td>283.0000</td>\n",
       "      <td>281.4000</td>\n",
       "      <td>281.4000</td>\n",
       "      <td>281.3800</td>\n",
       "      <td>281.2600</td>\n",
       "      <td>281.3900</td>\n",
       "      <td>281.3900</td>\n",
       "      <td>281.3900</td>\n",
       "      <td>...</td>\n",
       "      <td>286.0100</td>\n",
       "      <td>286.2500</td>\n",
       "      <td>286.1999</td>\n",
       "      <td>285.7500</td>\n",
       "      <td>286.4600</td>\n",
       "      <td>286.5399</td>\n",
       "      <td>285.4900</td>\n",
       "      <td>285.7800</td>\n",
       "      <td>285.7700</td>\n",
       "      <td>286.0800</td>\n",
       "    </tr>\n",
       "    <tr>\n",
       "      <th>3. low</th>\n",
       "      <td>281.2000</td>\n",
       "      <td>281.0000</td>\n",
       "      <td>281.3900</td>\n",
       "      <td>280.9700</td>\n",
       "      <td>281.1000</td>\n",
       "      <td>280.9700</td>\n",
       "      <td>280.4000</td>\n",
       "      <td>281.2600</td>\n",
       "      <td>280.0500</td>\n",
       "      <td>281.0000</td>\n",
       "      <td>...</td>\n",
       "      <td>285.5900</td>\n",
       "      <td>285.6500</td>\n",
       "      <td>285.3765</td>\n",
       "      <td>285.1704</td>\n",
       "      <td>285.0800</td>\n",
       "      <td>285.1078</td>\n",
       "      <td>285.0000</td>\n",
       "      <td>285.2918</td>\n",
       "      <td>285.1700</td>\n",
       "      <td>285.0900</td>\n",
       "    </tr>\n",
       "    <tr>\n",
       "      <th>4. close</th>\n",
       "      <td>282.0000</td>\n",
       "      <td>281.2000</td>\n",
       "      <td>281.4300</td>\n",
       "      <td>281.3900</td>\n",
       "      <td>281.1100</td>\n",
       "      <td>281.3700</td>\n",
       "      <td>281.0000</td>\n",
       "      <td>281.3900</td>\n",
       "      <td>281.3800</td>\n",
       "      <td>281.2600</td>\n",
       "      <td>...</td>\n",
       "      <td>285.8000</td>\n",
       "      <td>285.7600</td>\n",
       "      <td>285.7850</td>\n",
       "      <td>285.3188</td>\n",
       "      <td>285.2000</td>\n",
       "      <td>286.3600</td>\n",
       "      <td>285.2300</td>\n",
       "      <td>285.4350</td>\n",
       "      <td>285.4120</td>\n",
       "      <td>285.1800</td>\n",
       "    </tr>\n",
       "    <tr>\n",
       "      <th>5. volume</th>\n",
       "      <td>104</td>\n",
       "      <td>94</td>\n",
       "      <td>810</td>\n",
       "      <td>2838646</td>\n",
       "      <td>182</td>\n",
       "      <td>2829504</td>\n",
       "      <td>23</td>\n",
       "      <td>3</td>\n",
       "      <td>8915</td>\n",
       "      <td>71</td>\n",
       "      <td>...</td>\n",
       "      <td>59282</td>\n",
       "      <td>100975</td>\n",
       "      <td>66851</td>\n",
       "      <td>61225</td>\n",
       "      <td>114427</td>\n",
       "      <td>86566</td>\n",
       "      <td>78366</td>\n",
       "      <td>63124</td>\n",
       "      <td>81847</td>\n",
       "      <td>111830</td>\n",
       "    </tr>\n",
       "  </tbody>\n",
       "</table>\n",
       "<p>5 rows × 100 columns</p>\n",
       "</div>"
      ],
      "text/plain": [
       "          2025-06-20 19:45:00 2025-06-20 19:30:00 2025-06-20 19:15:00  \\\n",
       "1. open              282.6900            282.6900            281.3900   \n",
       "2. high              282.6900            282.6900            283.0000   \n",
       "3. low               281.2000            281.0000            281.3900   \n",
       "4. close             282.0000            281.2000            281.4300   \n",
       "5. volume                 104                  94                 810   \n",
       "\n",
       "          2025-06-20 19:00:00 2025-06-20 18:45:00 2025-06-20 18:30:00  \\\n",
       "1. open              280.9700            281.3800            280.9700   \n",
       "2. high              281.4000            281.4000            281.3800   \n",
       "3. low               280.9700            281.1000            280.9700   \n",
       "4. close             281.3900            281.1100            281.3700   \n",
       "5. volume             2838646                 182             2829504   \n",
       "\n",
       "          2025-06-20 18:15:00 2025-06-20 18:00:00 2025-06-20 17:45:00  \\\n",
       "1. open              281.2600            281.3800            281.3900   \n",
       "2. high              281.2600            281.3900            281.3900   \n",
       "3. low               280.4000            281.2600            280.0500   \n",
       "4. close             281.0000            281.3900            281.3800   \n",
       "5. volume                  23                   3                8915   \n",
       "\n",
       "          2025-06-20 17:30:00  ... 2025-06-18 13:15:00 2025-06-18 13:00:00  \\\n",
       "1. open              281.2700  ...            285.7950            285.7500   \n",
       "2. high              281.3900  ...            286.0100            286.2500   \n",
       "3. low               281.0000  ...            285.5900            285.6500   \n",
       "4. close             281.2600  ...            285.8000            285.7600   \n",
       "5. volume                  71  ...               59282              100975   \n",
       "\n",
       "          2025-06-18 12:45:00 2025-06-18 12:30:00 2025-06-18 12:15:00  \\\n",
       "1. open              285.4650            285.2500            286.4050   \n",
       "2. high              286.1999            285.7500            286.4600   \n",
       "3. low               285.3765            285.1704            285.0800   \n",
       "4. close             285.7850            285.3188            285.2000   \n",
       "5. volume               66851               61225              114427   \n",
       "\n",
       "          2025-06-18 12:00:00 2025-06-18 11:45:00 2025-06-18 11:30:00  \\\n",
       "1. open              285.2300            285.3700            285.4600   \n",
       "2. high              286.5399            285.4900            285.7800   \n",
       "3. low               285.1078            285.0000            285.2918   \n",
       "4. close             286.3600            285.2300            285.4350   \n",
       "5. volume               86566               78366               63124   \n",
       "\n",
       "          2025-06-18 11:15:00 2025-06-18 11:00:00  \n",
       "1. open              285.2180            285.9400  \n",
       "2. high              285.7700            286.0800  \n",
       "3. low               285.1700            285.0900  \n",
       "4. close             285.4120            285.1800  \n",
       "5. volume               81847              111830  \n",
       "\n",
       "[5 rows x 100 columns]"
      ]
     },
     "execution_count": 4,
     "metadata": {},
     "output_type": "execute_result"
    }
   ],
   "source": [
    "df.head()"
   ]
  },
  {
   "cell_type": "code",
   "execution_count": 5,
   "id": "3f1f7901",
   "metadata": {},
   "outputs": [
    {
     "data": {
      "text/html": [
       "<div>\n",
       "<style scoped>\n",
       "    .dataframe tbody tr th:only-of-type {\n",
       "        vertical-align: middle;\n",
       "    }\n",
       "\n",
       "    .dataframe tbody tr th {\n",
       "        vertical-align: top;\n",
       "    }\n",
       "\n",
       "    .dataframe thead th {\n",
       "        text-align: right;\n",
       "    }\n",
       "</style>\n",
       "<table border=\"1\" class=\"dataframe\">\n",
       "  <thead>\n",
       "    <tr style=\"text-align: right;\">\n",
       "      <th></th>\n",
       "      <th>open</th>\n",
       "      <th>high</th>\n",
       "      <th>low</th>\n",
       "      <th>close</th>\n",
       "      <th>volume</th>\n",
       "    </tr>\n",
       "  </thead>\n",
       "  <tbody>\n",
       "    <tr>\n",
       "      <th>2025-06-18 11:00:00</th>\n",
       "      <td>285.9400</td>\n",
       "      <td>286.0800</td>\n",
       "      <td>285.0900</td>\n",
       "      <td>285.1800</td>\n",
       "      <td>111830</td>\n",
       "    </tr>\n",
       "    <tr>\n",
       "      <th>2025-06-18 11:15:00</th>\n",
       "      <td>285.2180</td>\n",
       "      <td>285.7700</td>\n",
       "      <td>285.1700</td>\n",
       "      <td>285.4120</td>\n",
       "      <td>81847</td>\n",
       "    </tr>\n",
       "    <tr>\n",
       "      <th>2025-06-18 11:30:00</th>\n",
       "      <td>285.4600</td>\n",
       "      <td>285.7800</td>\n",
       "      <td>285.2918</td>\n",
       "      <td>285.4350</td>\n",
       "      <td>63124</td>\n",
       "    </tr>\n",
       "    <tr>\n",
       "      <th>2025-06-18 11:45:00</th>\n",
       "      <td>285.3700</td>\n",
       "      <td>285.4900</td>\n",
       "      <td>285.0000</td>\n",
       "      <td>285.2300</td>\n",
       "      <td>78366</td>\n",
       "    </tr>\n",
       "    <tr>\n",
       "      <th>2025-06-18 12:00:00</th>\n",
       "      <td>285.2300</td>\n",
       "      <td>286.5399</td>\n",
       "      <td>285.1078</td>\n",
       "      <td>286.3600</td>\n",
       "      <td>86566</td>\n",
       "    </tr>\n",
       "  </tbody>\n",
       "</table>\n",
       "</div>"
      ],
      "text/plain": [
       "                         open      high       low     close  volume\n",
       "2025-06-18 11:00:00  285.9400  286.0800  285.0900  285.1800  111830\n",
       "2025-06-18 11:15:00  285.2180  285.7700  285.1700  285.4120   81847\n",
       "2025-06-18 11:30:00  285.4600  285.7800  285.2918  285.4350   63124\n",
       "2025-06-18 11:45:00  285.3700  285.4900  285.0000  285.2300   78366\n",
       "2025-06-18 12:00:00  285.2300  286.5399  285.1078  286.3600   86566"
      ]
     },
     "execution_count": 5,
     "metadata": {},
     "output_type": "execute_result"
    }
   ],
   "source": [
    "# Step 1: Transpose the DataFrame so timestamps become the index\n",
    "df_rotated = df.T\n",
    "\n",
    "# Step 2: Clean up column names by removing the number prefixes (e.g., \"1. open\" → \"open\")\n",
    "df_rotated.columns = [col.split('. ', 1)[-1] for col in df_rotated.columns]\n",
    "\n",
    "# Step 3 (optional): Convert index to datetime if you want time-based operations\n",
    "df_rotated.index = pd.to_datetime(df_rotated.index)\n",
    "\n",
    "# Step 4 (optional): Sort by time (ascending)\n",
    "df_rotated = df_rotated.sort_index()\n",
    "\n",
    "# Final result\n",
    "df_rotated.head()"
   ]
  },
  {
   "cell_type": "code",
   "execution_count": 6,
   "id": "21cb75cc",
   "metadata": {},
   "outputs": [
    {
     "data": {
      "text/html": [
       "<div>\n",
       "<style scoped>\n",
       "    .dataframe tbody tr th:only-of-type {\n",
       "        vertical-align: middle;\n",
       "    }\n",
       "\n",
       "    .dataframe tbody tr th {\n",
       "        vertical-align: top;\n",
       "    }\n",
       "\n",
       "    .dataframe thead th {\n",
       "        text-align: right;\n",
       "    }\n",
       "</style>\n",
       "<table border=\"1\" class=\"dataframe\">\n",
       "  <thead>\n",
       "    <tr style=\"text-align: right;\">\n",
       "      <th></th>\n",
       "      <th>open</th>\n",
       "      <th>high</th>\n",
       "      <th>low</th>\n",
       "      <th>close</th>\n",
       "      <th>volume</th>\n",
       "    </tr>\n",
       "  </thead>\n",
       "  <tbody>\n",
       "    <tr>\n",
       "      <th>2025-06-20 18:45:00</th>\n",
       "      <td>281.3800</td>\n",
       "      <td>281.4000</td>\n",
       "      <td>281.1000</td>\n",
       "      <td>281.1100</td>\n",
       "      <td>182</td>\n",
       "    </tr>\n",
       "    <tr>\n",
       "      <th>2025-06-20 19:00:00</th>\n",
       "      <td>280.9700</td>\n",
       "      <td>281.4000</td>\n",
       "      <td>280.9700</td>\n",
       "      <td>281.3900</td>\n",
       "      <td>2838646</td>\n",
       "    </tr>\n",
       "    <tr>\n",
       "      <th>2025-06-20 19:15:00</th>\n",
       "      <td>281.3900</td>\n",
       "      <td>283.0000</td>\n",
       "      <td>281.3900</td>\n",
       "      <td>281.4300</td>\n",
       "      <td>810</td>\n",
       "    </tr>\n",
       "    <tr>\n",
       "      <th>2025-06-20 19:30:00</th>\n",
       "      <td>282.6900</td>\n",
       "      <td>282.6900</td>\n",
       "      <td>281.0000</td>\n",
       "      <td>281.2000</td>\n",
       "      <td>94</td>\n",
       "    </tr>\n",
       "    <tr>\n",
       "      <th>2025-06-20 19:45:00</th>\n",
       "      <td>282.6900</td>\n",
       "      <td>282.6900</td>\n",
       "      <td>281.2000</td>\n",
       "      <td>282.0000</td>\n",
       "      <td>104</td>\n",
       "    </tr>\n",
       "  </tbody>\n",
       "</table>\n",
       "</div>"
      ],
      "text/plain": [
       "                         open      high       low     close   volume\n",
       "2025-06-20 18:45:00  281.3800  281.4000  281.1000  281.1100      182\n",
       "2025-06-20 19:00:00  280.9700  281.4000  280.9700  281.3900  2838646\n",
       "2025-06-20 19:15:00  281.3900  283.0000  281.3900  281.4300      810\n",
       "2025-06-20 19:30:00  282.6900  282.6900  281.0000  281.2000       94\n",
       "2025-06-20 19:45:00  282.6900  282.6900  281.2000  282.0000      104"
      ]
     },
     "execution_count": 6,
     "metadata": {},
     "output_type": "execute_result"
    }
   ],
   "source": [
    "df_rotated.tail()"
   ]
  },
  {
   "cell_type": "code",
   "execution_count": 16,
   "id": "0a9aa06d",
   "metadata": {},
   "outputs": [
    {
     "data": {
      "application/vnd.plotly.v1+json": {
       "config": {
        "plotlyServerURL": "https://plot.ly"
       },
       "data": [
        {
         "close": {
          "bdata": "exSuR+HScUA730+Nl9ZxQClcj8L11nFASOF6FK7TcUD2KFyPwuVxQDMzMzMz03FAcF8HzhnVcUDD9Shcj9xxQFyPwvUo3HFAzczMzMzccUCamZmZmddxQLgehetR3HFAH4XrUbjWcUBI4XoUrtlxQDMzMzMz33FAUrgehevDcUBI4XoUrstxQClcj8L1vnFAKVyPwvXEcUBI4XoUrrNxQJqZmZmZtXFASOF6FK63cUAAAAAAAMhxQAAAAAAAyHFAUrgeheu1cUAAAAAAALhxQI/C9Shcu3FAMzMzMzOzcUCPwvUoXLNxQOM2GsBbs3FAqmBUUiewcUCPwvUoXLNxQDMzMzMzu3FAhetRuB6xcUCF61G4HrdxQArXo3A9tnFAuB6F61G4cUD2KFyPwrlxQLgehetRuHFAmpmZmZm5cUAAAAAAALBxQOxRuB6Fu3FA7FG4HoW/cUCPwvUoXLtxQM3MzMzMvHFAuB6F61G8cUAAAAAAAMBxQPYoXI/CrXFA16NwPQqPcUAzMzMzM4txQDMzMzMzi3FAAAAAAACQcUAK16NwPZJxQFR0JJf/j3FAZmZmZmaWcUBSuB6F64VxQB+F61G4fnFAAAAAAABwcUDhehSuR6VxQFyPwvUokHFAj8L1KFyfcUAnMQisHKZxQHgLJCh+qHFAKVyPwvWqcUDXo3A9CrVxQOF6FK5Hu3FAexSuR+G6cUAzMzMzM6txQD0K16NwpXFAH4XrUbincUB7FK5H4ZxxQHsUrkfhmnFApHA9CtedcUBxPQrXo5BxQIXrUbgejXFAcT0K16OQcUDZX3ZPHpVxQHsUrkfhlHFAofgx5q6TcUDNzMzMzIRxQPYoXI/CiXFAj8L1KFyLcUCkcD0K149xQOxRuB6Fj3FA7FG4HoWPcUCamZmZmZFxQDMzMzMzk3FACtejcD2WcUC9UpYhjoBxQLgehetRlHFAXI/C9SiUcUCuR+F6FJZxQArXo3A9lnFAAAAAAACQcUBSuB6F65VxQPYoXI/CkXFACtejcD2WcUB7FK5H4ZZxQDMzMzMzk3FAAAAAAACgcUA=",
          "dtype": "f8"
         },
         "high": {
          "bdata": "4XoUrkfhcUC4HoXrUdxxQBSuR+F63HFApHA9CtfXcUDEsS5uo+hxQI/C9Shc53FAAAAAAADccUCHp1fKMuNxQAAAAAAA5HFAXI/C9SjgcUBSuB6F691xQM3MzMzM4HFA4XoUrkfjcUDXo3A9Ct9xQEjhehSu43FAZmZmZmbecUB7FK5H4c5xQKRwPQrXz3FAMzMzMzPLcUDhehSuR8VxQKRwPQrXt3FApHA9Cte3cUAAAAAAAMhxQAAAAAAAyHFAAAAAAADIcUAAAAAAAMBxQAAAAAAAvHFAAAAAAAC8cUAAAAAAALxxQI/C9Shcs3FAj8L1KFyzcUCPwvUoXLNxQDMzMzMzu3FAMzMzMzO7cUAzMzMzM7txQArXo3A9tnFA16NwPQrHcUD2KFyPwrlxQHE9CtejvHFA9ihcj8K5cUDD9Shcj7pxQHE9CtejwHFAj8L1KFzDcUAK16NwPcJxQPYoXI/CwXFAw/UoXI++cUAAAAAAAMBxQBSuR+F6uHFASOF6FK6vcUDXo3A9CpdxQOF6FK5HjXFAAAAAAACQcUC4QILix8xxQFK4HoXrlXFAZmZmZmaWcUDFjzF3LZdxQGZmZmZmjnFA16NwPQqDcUAAAAAAAKhxQO0NvjCZrXFAj8L1KFyfcUCF61G4HqtxQD0K16NwqXFAMzMzMzOzcUAK16NwPbZxQArXo3A9vnFAUrgehevBcUCF61G4Hr1xQArXo3A9rnFAXI/C9SiwcUCwA+eMKKpxQK5H4XoUpnFAaJHtfD+hcUAUrkfheqBxQM4ZUdobk3FACtejcD2ScUCPwvUoXJdxQFyPwvUonHFAhetRuB6ZcUBSuB6F65VxQD0K16Nwi3FA9ihcj8KRcUBxPQrXo5BxQNejcD0Kk3FAXkvIBz2WcUCF61G4HpdxQAAAAAAAsHFACtejcD2WcUAK16NwPZZxQPVKWYY4lnFACtejcD2WcUAK16NwPZZxQArXo3A9lnFAXI/C9SiUcUCuR+F6FJZxQGZmZmZmlnFAZmZmZmaWcUAAAAAAALBxQNejcD0Kq3FA16NwPQqrcUA=",
          "dtype": "f8"
         },
         "low": {
          "bdata": "PQrXo3DRcUAfhetRuNJxQJEPejar1HFAAAAAAADQcUAkKH6MudFxQOF6FK5H0XFA0LNZ9bnScUAbL90kBtZxQGZmZmZm2nFAPQrXo3DZcUDFILByaNFxQD0K16Nw1XFArkfhehTKcUA9CtejcNFxQM3MzMzM1nFAt9EA3gK/cUAfhetRuL5xQKabxCCwvnFACtejcD2+cUDXo3A9Cq9xQClcj8L1qHFAj8L1KFyzcUCPwvUoXLNxQDMzMzMzt3FAAAAAAAC0cUAAAAAAALRxQI/C9Shcs3FAMzMzMzOzcUAAAAAAALBxQJqZmZmZsXFAqmBUUiewcUAAAAAAALBxQPCnxks3sXFAKVyPwvWwcUCF61G4HrFxQClcj8L1sHFAzczMzMywcUC4HoXrUbhxQLgehetRuHFAKVyPwvWscUAAAAAAALBxQArXo3A9unFAexSuR+GucUB7FK5H4bpxQDMzMzMzu3FAKVyPwvW4cUCkcD0K17dxQBSuR+F6qHFAMzMzMzOLcUAzMzMzM4txQOxRuB6Fh3FAcT0K16OIcUDNzMzMzIRxQAAAAAAAiHFAmpmZmZmJcUAzMzMzM3txQGZmZmZmfnFAAAAAAABwcUAzMzMzM1NxQDMzMzMzi3FAMzMzMzODcUDhehSuR5lxQPYoXI/CmXFAMzMzMzOncUCkcD0K16NxQBSuR+F6tHFAexSuR+G4cUAzMzMzM6txQB+F61G4pHFA16NwPQqfcUCkcD0K15txQJqZmZmZmXFAyxDHuriWcUAAAAAAAJBxQNXnaiv2hHFABaOSOgGNcUBcj8L1KJBxQB+F61G4knFA9ihcj8KRcUDNzMzMzIRxQKyL22gAgHFAUrgeheuHcUC62or9ZYlxQOF6FK5HhXFAexSuR+GGcUDsUbgehY9xQOxRuB6Fj3FA7FG4HoWPcUC9UpYhjoBxQAAAAAAAlHFAAAAAAACQcUDNzMzMzIBxQFyPwvUolHFAZmZmZmaGcUDsUbgehY9xQJqZmZmZkXFA7FG4HoWPcUAK16NwPZZxQAAAAAAAkHFAMzMzMzOTcUA=",
          "dtype": "f8"
         },
         "open": {
          "bdata": "16NwPQrfcUBzaJHtfNNxQI/C9Shc13FAUrgehevVcUBI4XoUrtNxQBSuR+F65nFAAAAAAADUcUA9CtejcNdxQAAAAAAA3HFAH4XrUbjccUDNzMzMzNxxQJqZmZmZ13FA4XoUrkfdcUDsUbgehdVxQGpN845T2XFAZmZmZmbecUBSuB6F68FxQGZmZmZmynFAw/UoXI++cUBxPQrXo8RxQDMzMzMzs3FAj8L1KFyzcUCkcD0K17dxQLgehetRuHFALpCg+DHCcUAAAAAAAMBxQM3MzMzMtHFAAAAAAAC8cUAzMzMzM7NxQI/C9Shcs3FAj8L1KFyzcUCPwvUoXLNxQI/C9Shcs3FAZmZmZmaycUAzMzMzM7txQHsUrkfhsnFA16NwPQrHcUAUrkfherhxQB+F61G4unFAKVyPwvW4cUDhehSuR7lxQArXo3A9unFArkfhehS+cUAK16NwPcJxQLgehetRvHFAw/UoXI++cUDsUbgehbtxQDMzMzMzt3FA9ihcj8KtcUDNzMzMzIxxQAAAAAAAjHFAMzMzMzOLcUCvJeSDnqlxQK8l5IOeiHFAVHQkl/+PcUAK16NwPZZxQNxGA3gLjnFACtejcD1+cUAUrkfhenRxQHsUrkfhpnFAXI/C9SiQcUAfhetRuJ5xQK5H4XoUpnFAhetRuB6pcUCuR+F6FKpxQOF6FK5HtXFAFK5H4Xq8cUBhVFInoLtxQDMzMzMzq3FA9ihcj8KjcUCkcD0K16dxQHS1FfvLnHFAKVyPwvWacUCkcD0K151xQI/C9Shcj3FAhetRuB6NcUCamZmZmZFxQI/C9Shck3FAH4XrUbiUcUDsUbgehZNxQFK4HoXrhXFA4XoUrkeJcUBxPQrXo4xxQKRwPQrXj3FA7FG4HoWPcUDsUbgehY9xQJqZmZmZkXFAzczMzMyUcUDsUbgehY9xQAAAAAAAlHFAuB6F61GUcUAK16NwPZZxQK5H4XoUlnFAXI/C9SiUcUDsUbgehY9xQK5H4XoUlnFA7FG4HoWPcUAK16NwPZZxQNejcD0Kq3FA16NwPQqrcUA=",
          "dtype": "f8"
         },
         "type": "candlestick",
         "x": [
          "2025-06-18T11:00:00",
          "2025-06-18T11:15:00",
          "2025-06-18T11:30:00",
          "2025-06-18T11:45:00",
          "2025-06-18T12:00:00",
          "2025-06-18T12:15:00",
          "2025-06-18T12:30:00",
          "2025-06-18T12:45:00",
          "2025-06-18T13:00:00",
          "2025-06-18T13:15:00",
          "2025-06-18T13:30:00",
          "2025-06-18T13:45:00",
          "2025-06-18T14:00:00",
          "2025-06-18T14:15:00",
          "2025-06-18T14:30:00",
          "2025-06-18T14:45:00",
          "2025-06-18T15:00:00",
          "2025-06-18T15:15:00",
          "2025-06-18T15:30:00",
          "2025-06-18T15:45:00",
          "2025-06-18T16:00:00",
          "2025-06-18T16:15:00",
          "2025-06-18T16:30:00",
          "2025-06-18T16:45:00",
          "2025-06-18T17:00:00",
          "2025-06-18T17:15:00",
          "2025-06-18T17:30:00",
          "2025-06-18T17:45:00",
          "2025-06-18T18:00:00",
          "2025-06-18T18:15:00",
          "2025-06-18T18:30:00",
          "2025-06-18T18:45:00",
          "2025-06-18T19:00:00",
          "2025-06-18T19:15:00",
          "2025-06-18T19:30:00",
          "2025-06-18T19:45:00",
          "2025-06-20T04:00:00",
          "2025-06-20T04:15:00",
          "2025-06-20T04:30:00",
          "2025-06-20T04:45:00",
          "2025-06-20T05:00:00",
          "2025-06-20T05:15:00",
          "2025-06-20T05:30:00",
          "2025-06-20T05:45:00",
          "2025-06-20T06:00:00",
          "2025-06-20T06:15:00",
          "2025-06-20T06:30:00",
          "2025-06-20T06:45:00",
          "2025-06-20T07:00:00",
          "2025-06-20T07:15:00",
          "2025-06-20T07:30:00",
          "2025-06-20T07:45:00",
          "2025-06-20T08:00:00",
          "2025-06-20T08:15:00",
          "2025-06-20T08:30:00",
          "2025-06-20T08:45:00",
          "2025-06-20T09:00:00",
          "2025-06-20T09:15:00",
          "2025-06-20T09:30:00",
          "2025-06-20T09:45:00",
          "2025-06-20T10:00:00",
          "2025-06-20T10:15:00",
          "2025-06-20T10:30:00",
          "2025-06-20T10:45:00",
          "2025-06-20T11:00:00",
          "2025-06-20T11:15:00",
          "2025-06-20T11:30:00",
          "2025-06-20T11:45:00",
          "2025-06-20T12:00:00",
          "2025-06-20T12:15:00",
          "2025-06-20T12:30:00",
          "2025-06-20T12:45:00",
          "2025-06-20T13:00:00",
          "2025-06-20T13:15:00",
          "2025-06-20T13:30:00",
          "2025-06-20T13:45:00",
          "2025-06-20T14:00:00",
          "2025-06-20T14:15:00",
          "2025-06-20T14:30:00",
          "2025-06-20T14:45:00",
          "2025-06-20T15:00:00",
          "2025-06-20T15:15:00",
          "2025-06-20T15:30:00",
          "2025-06-20T15:45:00",
          "2025-06-20T16:00:00",
          "2025-06-20T16:15:00",
          "2025-06-20T16:30:00",
          "2025-06-20T16:45:00",
          "2025-06-20T17:00:00",
          "2025-06-20T17:15:00",
          "2025-06-20T17:30:00",
          "2025-06-20T17:45:00",
          "2025-06-20T18:00:00",
          "2025-06-20T18:15:00",
          "2025-06-20T18:30:00",
          "2025-06-20T18:45:00",
          "2025-06-20T19:00:00",
          "2025-06-20T19:15:00",
          "2025-06-20T19:30:00",
          "2025-06-20T19:45:00"
         ]
        }
       ],
       "layout": {
        "template": {
         "data": {
          "bar": [
           {
            "error_x": {
             "color": "#2a3f5f"
            },
            "error_y": {
             "color": "#2a3f5f"
            },
            "marker": {
             "line": {
              "color": "#E5ECF6",
              "width": 0.5
             },
             "pattern": {
              "fillmode": "overlay",
              "size": 10,
              "solidity": 0.2
             }
            },
            "type": "bar"
           }
          ],
          "barpolar": [
           {
            "marker": {
             "line": {
              "color": "#E5ECF6",
              "width": 0.5
             },
             "pattern": {
              "fillmode": "overlay",
              "size": 10,
              "solidity": 0.2
             }
            },
            "type": "barpolar"
           }
          ],
          "carpet": [
           {
            "aaxis": {
             "endlinecolor": "#2a3f5f",
             "gridcolor": "white",
             "linecolor": "white",
             "minorgridcolor": "white",
             "startlinecolor": "#2a3f5f"
            },
            "baxis": {
             "endlinecolor": "#2a3f5f",
             "gridcolor": "white",
             "linecolor": "white",
             "minorgridcolor": "white",
             "startlinecolor": "#2a3f5f"
            },
            "type": "carpet"
           }
          ],
          "choropleth": [
           {
            "colorbar": {
             "outlinewidth": 0,
             "ticks": ""
            },
            "type": "choropleth"
           }
          ],
          "contour": [
           {
            "colorbar": {
             "outlinewidth": 0,
             "ticks": ""
            },
            "colorscale": [
             [
              0,
              "#0d0887"
             ],
             [
              0.1111111111111111,
              "#46039f"
             ],
             [
              0.2222222222222222,
              "#7201a8"
             ],
             [
              0.3333333333333333,
              "#9c179e"
             ],
             [
              0.4444444444444444,
              "#bd3786"
             ],
             [
              0.5555555555555556,
              "#d8576b"
             ],
             [
              0.6666666666666666,
              "#ed7953"
             ],
             [
              0.7777777777777778,
              "#fb9f3a"
             ],
             [
              0.8888888888888888,
              "#fdca26"
             ],
             [
              1,
              "#f0f921"
             ]
            ],
            "type": "contour"
           }
          ],
          "contourcarpet": [
           {
            "colorbar": {
             "outlinewidth": 0,
             "ticks": ""
            },
            "type": "contourcarpet"
           }
          ],
          "heatmap": [
           {
            "colorbar": {
             "outlinewidth": 0,
             "ticks": ""
            },
            "colorscale": [
             [
              0,
              "#0d0887"
             ],
             [
              0.1111111111111111,
              "#46039f"
             ],
             [
              0.2222222222222222,
              "#7201a8"
             ],
             [
              0.3333333333333333,
              "#9c179e"
             ],
             [
              0.4444444444444444,
              "#bd3786"
             ],
             [
              0.5555555555555556,
              "#d8576b"
             ],
             [
              0.6666666666666666,
              "#ed7953"
             ],
             [
              0.7777777777777778,
              "#fb9f3a"
             ],
             [
              0.8888888888888888,
              "#fdca26"
             ],
             [
              1,
              "#f0f921"
             ]
            ],
            "type": "heatmap"
           }
          ],
          "histogram": [
           {
            "marker": {
             "pattern": {
              "fillmode": "overlay",
              "size": 10,
              "solidity": 0.2
             }
            },
            "type": "histogram"
           }
          ],
          "histogram2d": [
           {
            "colorbar": {
             "outlinewidth": 0,
             "ticks": ""
            },
            "colorscale": [
             [
              0,
              "#0d0887"
             ],
             [
              0.1111111111111111,
              "#46039f"
             ],
             [
              0.2222222222222222,
              "#7201a8"
             ],
             [
              0.3333333333333333,
              "#9c179e"
             ],
             [
              0.4444444444444444,
              "#bd3786"
             ],
             [
              0.5555555555555556,
              "#d8576b"
             ],
             [
              0.6666666666666666,
              "#ed7953"
             ],
             [
              0.7777777777777778,
              "#fb9f3a"
             ],
             [
              0.8888888888888888,
              "#fdca26"
             ],
             [
              1,
              "#f0f921"
             ]
            ],
            "type": "histogram2d"
           }
          ],
          "histogram2dcontour": [
           {
            "colorbar": {
             "outlinewidth": 0,
             "ticks": ""
            },
            "colorscale": [
             [
              0,
              "#0d0887"
             ],
             [
              0.1111111111111111,
              "#46039f"
             ],
             [
              0.2222222222222222,
              "#7201a8"
             ],
             [
              0.3333333333333333,
              "#9c179e"
             ],
             [
              0.4444444444444444,
              "#bd3786"
             ],
             [
              0.5555555555555556,
              "#d8576b"
             ],
             [
              0.6666666666666666,
              "#ed7953"
             ],
             [
              0.7777777777777778,
              "#fb9f3a"
             ],
             [
              0.8888888888888888,
              "#fdca26"
             ],
             [
              1,
              "#f0f921"
             ]
            ],
            "type": "histogram2dcontour"
           }
          ],
          "mesh3d": [
           {
            "colorbar": {
             "outlinewidth": 0,
             "ticks": ""
            },
            "type": "mesh3d"
           }
          ],
          "parcoords": [
           {
            "line": {
             "colorbar": {
              "outlinewidth": 0,
              "ticks": ""
             }
            },
            "type": "parcoords"
           }
          ],
          "pie": [
           {
            "automargin": true,
            "type": "pie"
           }
          ],
          "scatter": [
           {
            "fillpattern": {
             "fillmode": "overlay",
             "size": 10,
             "solidity": 0.2
            },
            "type": "scatter"
           }
          ],
          "scatter3d": [
           {
            "line": {
             "colorbar": {
              "outlinewidth": 0,
              "ticks": ""
             }
            },
            "marker": {
             "colorbar": {
              "outlinewidth": 0,
              "ticks": ""
             }
            },
            "type": "scatter3d"
           }
          ],
          "scattercarpet": [
           {
            "marker": {
             "colorbar": {
              "outlinewidth": 0,
              "ticks": ""
             }
            },
            "type": "scattercarpet"
           }
          ],
          "scattergeo": [
           {
            "marker": {
             "colorbar": {
              "outlinewidth": 0,
              "ticks": ""
             }
            },
            "type": "scattergeo"
           }
          ],
          "scattergl": [
           {
            "marker": {
             "colorbar": {
              "outlinewidth": 0,
              "ticks": ""
             }
            },
            "type": "scattergl"
           }
          ],
          "scattermap": [
           {
            "marker": {
             "colorbar": {
              "outlinewidth": 0,
              "ticks": ""
             }
            },
            "type": "scattermap"
           }
          ],
          "scattermapbox": [
           {
            "marker": {
             "colorbar": {
              "outlinewidth": 0,
              "ticks": ""
             }
            },
            "type": "scattermapbox"
           }
          ],
          "scatterpolar": [
           {
            "marker": {
             "colorbar": {
              "outlinewidth": 0,
              "ticks": ""
             }
            },
            "type": "scatterpolar"
           }
          ],
          "scatterpolargl": [
           {
            "marker": {
             "colorbar": {
              "outlinewidth": 0,
              "ticks": ""
             }
            },
            "type": "scatterpolargl"
           }
          ],
          "scatterternary": [
           {
            "marker": {
             "colorbar": {
              "outlinewidth": 0,
              "ticks": ""
             }
            },
            "type": "scatterternary"
           }
          ],
          "surface": [
           {
            "colorbar": {
             "outlinewidth": 0,
             "ticks": ""
            },
            "colorscale": [
             [
              0,
              "#0d0887"
             ],
             [
              0.1111111111111111,
              "#46039f"
             ],
             [
              0.2222222222222222,
              "#7201a8"
             ],
             [
              0.3333333333333333,
              "#9c179e"
             ],
             [
              0.4444444444444444,
              "#bd3786"
             ],
             [
              0.5555555555555556,
              "#d8576b"
             ],
             [
              0.6666666666666666,
              "#ed7953"
             ],
             [
              0.7777777777777778,
              "#fb9f3a"
             ],
             [
              0.8888888888888888,
              "#fdca26"
             ],
             [
              1,
              "#f0f921"
             ]
            ],
            "type": "surface"
           }
          ],
          "table": [
           {
            "cells": {
             "fill": {
              "color": "#EBF0F8"
             },
             "line": {
              "color": "white"
             }
            },
            "header": {
             "fill": {
              "color": "#C8D4E3"
             },
             "line": {
              "color": "white"
             }
            },
            "type": "table"
           }
          ]
         },
         "layout": {
          "annotationdefaults": {
           "arrowcolor": "#2a3f5f",
           "arrowhead": 0,
           "arrowwidth": 1
          },
          "autotypenumbers": "strict",
          "coloraxis": {
           "colorbar": {
            "outlinewidth": 0,
            "ticks": ""
           }
          },
          "colorscale": {
           "diverging": [
            [
             0,
             "#8e0152"
            ],
            [
             0.1,
             "#c51b7d"
            ],
            [
             0.2,
             "#de77ae"
            ],
            [
             0.3,
             "#f1b6da"
            ],
            [
             0.4,
             "#fde0ef"
            ],
            [
             0.5,
             "#f7f7f7"
            ],
            [
             0.6,
             "#e6f5d0"
            ],
            [
             0.7,
             "#b8e186"
            ],
            [
             0.8,
             "#7fbc41"
            ],
            [
             0.9,
             "#4d9221"
            ],
            [
             1,
             "#276419"
            ]
           ],
           "sequential": [
            [
             0,
             "#0d0887"
            ],
            [
             0.1111111111111111,
             "#46039f"
            ],
            [
             0.2222222222222222,
             "#7201a8"
            ],
            [
             0.3333333333333333,
             "#9c179e"
            ],
            [
             0.4444444444444444,
             "#bd3786"
            ],
            [
             0.5555555555555556,
             "#d8576b"
            ],
            [
             0.6666666666666666,
             "#ed7953"
            ],
            [
             0.7777777777777778,
             "#fb9f3a"
            ],
            [
             0.8888888888888888,
             "#fdca26"
            ],
            [
             1,
             "#f0f921"
            ]
           ],
           "sequentialminus": [
            [
             0,
             "#0d0887"
            ],
            [
             0.1111111111111111,
             "#46039f"
            ],
            [
             0.2222222222222222,
             "#7201a8"
            ],
            [
             0.3333333333333333,
             "#9c179e"
            ],
            [
             0.4444444444444444,
             "#bd3786"
            ],
            [
             0.5555555555555556,
             "#d8576b"
            ],
            [
             0.6666666666666666,
             "#ed7953"
            ],
            [
             0.7777777777777778,
             "#fb9f3a"
            ],
            [
             0.8888888888888888,
             "#fdca26"
            ],
            [
             1,
             "#f0f921"
            ]
           ]
          },
          "colorway": [
           "#636efa",
           "#EF553B",
           "#00cc96",
           "#ab63fa",
           "#FFA15A",
           "#19d3f3",
           "#FF6692",
           "#B6E880",
           "#FF97FF",
           "#FECB52"
          ],
          "font": {
           "color": "#2a3f5f"
          },
          "geo": {
           "bgcolor": "white",
           "lakecolor": "white",
           "landcolor": "#E5ECF6",
           "showlakes": true,
           "showland": true,
           "subunitcolor": "white"
          },
          "hoverlabel": {
           "align": "left"
          },
          "hovermode": "closest",
          "mapbox": {
           "style": "light"
          },
          "paper_bgcolor": "white",
          "plot_bgcolor": "#E5ECF6",
          "polar": {
           "angularaxis": {
            "gridcolor": "white",
            "linecolor": "white",
            "ticks": ""
           },
           "bgcolor": "#E5ECF6",
           "radialaxis": {
            "gridcolor": "white",
            "linecolor": "white",
            "ticks": ""
           }
          },
          "scene": {
           "xaxis": {
            "backgroundcolor": "#E5ECF6",
            "gridcolor": "white",
            "gridwidth": 2,
            "linecolor": "white",
            "showbackground": true,
            "ticks": "",
            "zerolinecolor": "white"
           },
           "yaxis": {
            "backgroundcolor": "#E5ECF6",
            "gridcolor": "white",
            "gridwidth": 2,
            "linecolor": "white",
            "showbackground": true,
            "ticks": "",
            "zerolinecolor": "white"
           },
           "zaxis": {
            "backgroundcolor": "#E5ECF6",
            "gridcolor": "white",
            "gridwidth": 2,
            "linecolor": "white",
            "showbackground": true,
            "ticks": "",
            "zerolinecolor": "white"
           }
          },
          "shapedefaults": {
           "line": {
            "color": "#2a3f5f"
           }
          },
          "ternary": {
           "aaxis": {
            "gridcolor": "white",
            "linecolor": "white",
            "ticks": ""
           },
           "baxis": {
            "gridcolor": "white",
            "linecolor": "white",
            "ticks": ""
           },
           "bgcolor": "#E5ECF6",
           "caxis": {
            "gridcolor": "white",
            "linecolor": "white",
            "ticks": ""
           }
          },
          "title": {
           "x": 0.05
          },
          "xaxis": {
           "automargin": true,
           "gridcolor": "white",
           "linecolor": "white",
           "ticks": "",
           "title": {
            "standoff": 15
           },
           "zerolinecolor": "white",
           "zerolinewidth": 2
          },
          "yaxis": {
           "automargin": true,
           "gridcolor": "white",
           "linecolor": "white",
           "ticks": "",
           "title": {
            "standoff": 15
           },
           "zerolinecolor": "white",
           "zerolinewidth": 2
          }
         }
        },
        "title": {
         "text": "Candlestick Chart"
        },
        "xaxis": {
         "rangeslider": {
          "visible": false
         },
         "title": {
          "text": "Time"
         },
         "type": "category"
        },
        "yaxis": {
         "title": {
          "text": "Price"
         }
        }
       }
      }
     },
     "metadata": {},
     "output_type": "display_data"
    }
   ],
   "source": [
    "import plotly.graph_objects as go\n",
    "\n",
    "# Assuming df_rotated is your transformed DataFrame\n",
    "# with datetime index and columns: open, high, low, close\n",
    "\n",
    "fig = go.Figure(data=[go.Candlestick(\n",
    "    x=pd.to_datetime(df_rotated.index),\n",
    "    open=df_rotated['open'].astype(float),\n",
    "    high=df_rotated['high'].astype(float),\n",
    "    low=df_rotated['low'].astype(float),\n",
    "    close=df_rotated['close'].astype(float),\n",
    ")])\n",
    "\n",
    "# Customize layout\n",
    "fig.update_layout(\n",
    "    title='Candlestick Chart',\n",
    "    xaxis_title='Time',\n",
    "    yaxis_title='Price',\n",
    "    xaxis_rangeslider_visible=False,\n",
    "    xaxis=dict(\n",
    "        type='category',\n",
    "    )\n",
    ")\n",
    "\n",
    "fig.show()"
   ]
  },
  {
   "cell_type": "code",
   "execution_count": 8,
   "id": "32b7c175",
   "metadata": {},
   "outputs": [],
   "source": [
    "fig.write_image(\"candlestick.pdf\")"
   ]
  },
  {
   "cell_type": "code",
   "execution_count": 9,
   "id": "ddab9244",
   "metadata": {},
   "outputs": [],
   "source": [
    "fig.write_image(\"chart.svg\")"
   ]
  },
  {
   "cell_type": "code",
   "execution_count": null,
   "id": "01a48ec1",
   "metadata": {},
   "outputs": [],
   "source": [
    "fig.write_image(\"chart.png\", width=1920, height=1080, scale=2)"
   ]
  },
  {
   "cell_type": "code",
   "execution_count": 27,
   "id": "97c1e37d",
   "metadata": {},
   "outputs": [
    {
     "data": {
      "text/plain": [
       "'2025-06-18 11:00'"
      ]
     },
     "execution_count": 27,
     "metadata": {},
     "output_type": "execute_result"
    }
   ],
   "source": [
    "df_rotated.index[0].strftime('%Y-%m-%d %H:%M')"
   ]
  },
  {
   "cell_type": "code",
   "execution_count": 26,
   "id": "8e04bc76",
   "metadata": {},
   "outputs": [
    {
     "data": {
      "text/plain": [
       "'1. open'"
      ]
     },
     "execution_count": 26,
     "metadata": {},
     "output_type": "execute_result"
    }
   ],
   "source": [
    "df.index[0]"
   ]
  },
  {
   "cell_type": "code",
   "execution_count": null,
   "id": "7bbd1f94",
   "metadata": {},
   "outputs": [],
   "source": []
  }
 ],
 "metadata": {
  "kernelspec": {
   "display_name": ".venv",
   "language": "python",
   "name": "python3"
  },
  "language_info": {
   "codemirror_mode": {
    "name": "ipython",
    "version": 3
   },
   "file_extension": ".py",
   "mimetype": "text/x-python",
   "name": "python",
   "nbconvert_exporter": "python",
   "pygments_lexer": "ipython3",
   "version": "3.13.1"
  }
 },
 "nbformat": 4,
 "nbformat_minor": 5
}
